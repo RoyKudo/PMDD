{
 "cells": [
  {
   "cell_type": "code",
   "execution_count": null,
   "metadata": {},
   "outputs": [],
   "source": [
    "# get 1 frame from each video\n",
    "import os\n",
    "import cv2\n",
    "def get1frame(f):\n",
    "    cap = cv2.VideoCapture('/Users/RoyKudo/Desktop/OFT results/videos/' + f)\n",
    "    total_frames = cap.get(1)\n",
    "    ret, frame = cap.read()\n",
    "    cv2.imwrite('/Users/RoyKudo/Desktop/OFT results/get1frame/' + f.replace('.mp4', '.png'), frame)\n",
    "    \n",
    "for f in os.listdir('/Users/RoyKudo/Desktop/OFT results/videos/'):\n",
    "    if f.endswith('mp4'):\n",
    "        get1frame(f)"
   ]
  },
  {
   "cell_type": "code",
   "execution_count": null,
   "metadata": {},
   "outputs": [],
   "source": [
    "# create a csv with titles of vertices\n",
    "l1 = ['leftup_', 'rightup_', 'rightdown_', 'leftdown_', 'centerpoint_']\n",
    "l2 = ['x: ', 'y: ']\n",
    "l3 = []\n",
    "\n",
    "for i in l1:\n",
    "    for j in l2:\n",
    "            l3.append(i+j)\n",
    "\n",
    "with open('/Users/RoyKudo/Desktop/OFT results/get_vertices_and_center/title_of vertices.csv', 'a') as t:\n",
    "    for k in l3:\n",
    "        t.write(k)\n",
    "        t.write('\\n')"
   ]
  },
  {
   "cell_type": "code",
   "execution_count": null,
   "metadata": {},
   "outputs": [],
   "source": [
    "import matplotlib.pyplot as plt\n",
    "import cv2\n",
    "import numpy as np\n",
    "\n",
    "# get coor of vertices & centerpoint in frame by clicking on the picture\n",
    "# clicking order: upper-left corner, upper-right corner, lower-right corner, lower-left corner\n",
    "# remember to change path of each video\n",
    "img = cv2.imread('/Users/RoyKudo/Desktop/OFT results/get1frame/79.png')\n",
    "\n",
    "def on_EVENT_LBUTTONDOWN(event, x, y, flags, param):\n",
    "    if event == cv2.EVENT_LBUTTONDOWN:\n",
    "        xy = \"%d,%d\" % (x, y)\n",
    "        \n",
    "        with open('/Users/RoyKudo/Desktop/OFT results/get_vertices_and_center/79.csv', 'a') as t:\n",
    "            t.write(str(x))\n",
    "            t.write('\\n')\n",
    "            t.write(str(y))\n",
    "            t.write('\\n')\n",
    "        \n",
    "        cv2.circle(img, (x, y), 1, (255, 0, 0), thickness = -1)\n",
    "        cv2.putText(img, xy, (x, y), cv2.FONT_HERSHEY_PLAIN,\n",
    "                    1.0, (0,0,0), thickness = 1)\n",
    "        cv2.imshow(\"image\", img)\n",
    "\n",
    "cv2.namedWindow(\"image\")\n",
    "cv2.setMouseCallback(\"image\", on_EVENT_LBUTTONDOWN)\n",
    "cv2.imshow(\"image\", img)\n",
    "\n",
    "while(True):\n",
    "    try:\n",
    "        cv2.waitKey(100)\n",
    "    except Exception:\n",
    "        cv2.destroyWindow(\"image\")\n",
    "        break\n",
    "        \n",
    "cv2.waitKey(0)\n",
    "cv2.destroyAllWindow()"
   ]
  },
  {
   "cell_type": "code",
   "execution_count": 1,
   "metadata": {},
   "outputs": [],
   "source": [
    "# optional: merge title csv & coor csv\n",
    "import csv\n",
    "with open('/Users/RoyKudo/Desktop/OFT results/get_vertices_and_center/title_of vertices.csv') as infile1, open('/Users/RoyKudo/Desktop/OFT results/get_vertices_and_center/78.csv') as infile2, open('/Users/RoyKudo/Desktop/OFT results/get_vertices_and_center/78_vertices_and_center_coor.csv', 'w') as outfile:\n",
    "    writer = csv.writer(outfile, delimiter='\\t')\n",
    "    for row1,row2 in zip(csv.reader(infile1, delimiter='\\t'), csv.reader(infile2, delimiter='\\t')):\n",
    "        writer.writerow(row1+row2)"
   ]
  },
  {
   "cell_type": "code",
   "execution_count": null,
   "metadata": {},
   "outputs": [],
   "source": []
  }
 ],
 "metadata": {
  "kernelspec": {
   "display_name": "Python 3",
   "language": "python",
   "name": "python3"
  },
  "language_info": {
   "codemirror_mode": {
    "name": "ipython",
    "version": 3
   },
   "file_extension": ".py",
   "mimetype": "text/x-python",
   "name": "python",
   "nbconvert_exporter": "python",
   "pygments_lexer": "ipython3",
   "version": "3.7.9"
  }
 },
 "nbformat": 4,
 "nbformat_minor": 4
}

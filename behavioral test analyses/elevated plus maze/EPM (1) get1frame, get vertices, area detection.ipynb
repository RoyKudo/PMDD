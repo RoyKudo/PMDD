{
 "cells": [
  {
   "cell_type": "markdown",
   "metadata": {},
   "source": [
    "# Get 1 frame from each video"
   ]
  },
  {
   "cell_type": "code",
   "execution_count": null,
   "metadata": {},
   "outputs": [],
   "source": [
    "import os\n",
    "import cv2"
   ]
  },
  {
   "cell_type": "code",
   "execution_count": null,
   "metadata": {},
   "outputs": [],
   "source": [
    "def get1frame(f):\n",
    "    cap = cv2.VideoCapture('/Users/RoyKudo/Desktop/EPM videos/' + f)\n",
    "    total_frames = cap.get(1)\n",
    "    ret, frame = cap.read()\n",
    "    cv2.imwrite('/Users/RoyKudo/Desktop/EPM results/get1frame/' + f.replace('.mp4', '.png'), frame)\n",
    "    \n",
    "for f in os.listdir('/Users/RoyKudo/Desktop/EPM videos/'):\n",
    "    if f.endswith('mp4'):\n",
    "        get1frame(f)"
   ]
  },
  {
   "cell_type": "markdown",
   "metadata": {},
   "source": [
    "# Get vertices of area from each frame"
   ]
  },
  {
   "cell_type": "code",
   "execution_count": 8,
   "metadata": {},
   "outputs": [],
   "source": [
    "import matplotlib.pyplot as plt\n",
    "import cv2\n",
    "import numpy as np"
   ]
  },
  {
   "cell_type": "markdown",
   "metadata": {},
   "source": [
    "## (Create a csv with titles of vertices)"
   ]
  },
  {
   "cell_type": "code",
   "execution_count": null,
   "metadata": {},
   "outputs": [],
   "source": [
    "l1 = ['left_open_', 'left_close_', 'center_square_', 'right_close_', 'right_open_']\n",
    "l2 = ['leftup_', 'rightup_', 'rightdown_', 'leftdown_']\n",
    "l3 = ['x: ', 'y: ']\n",
    "l4 = []\n",
    "\n",
    "for i in l1:\n",
    "    for j in l2:\n",
    "        for k in l3:\n",
    "            l4.append(i+j+k)\n",
    "\n",
    "with open('/Users/RoyKudo/Desktop/EPM results/getvertices/title_of vertices.csv', 'a') as t:\n",
    "    for m in l4:\n",
    "        t.write(m)\n",
    "        t.write('\\n')"
   ]
  },
  {
   "cell_type": "markdown",
   "metadata": {},
   "source": [
    "## (Do this to each video to get the coordinates of vertices)"
   ]
  },
  {
   "cell_type": "code",
   "execution_count": null,
   "metadata": {},
   "outputs": [],
   "source": [
    "# get coor of all the vertices in frame by clicking on the picture\n",
    "# clicking order: (always start from the leftest point of the area) upper-left open arm, lower-left closed arm, square in center, upper-right closed arm, lower-right open arm\n",
    "#change path of each video\n",
    "img = cv2.imread('/Users/RoyKudo/Desktop/EPM results/get1frame/79.png')\n",
    "\n",
    "def on_EVENT_LBUTTONDOWN(event, x, y, flags, param):\n",
    "    if event == cv2.EVENT_LBUTTONDOWN:\n",
    "        xy = \"%d,%d\" % (x, y)\n",
    "        \n",
    "        with open('/Users/RoyKudo/Desktop/EPM results/getvertices/79.csv', 'a') as t:\n",
    "            t.write(str(x))\n",
    "            t.write('\\n')\n",
    "            t.write(str(y))\n",
    "            t.write('\\n')\n",
    "        \n",
    "        cv2.circle(img, (x, y), 1, (255, 0, 0), thickness = -1)\n",
    "        cv2.putText(img, xy, (x, y), cv2.FONT_HERSHEY_PLAIN,\n",
    "                    1.0, (0,0,0), thickness = 1)\n",
    "        cv2.imshow(\"image\", img)\n",
    "\n",
    "cv2.namedWindow(\"image\")\n",
    "cv2.setMouseCallback(\"image\", on_EVENT_LBUTTONDOWN)\n",
    "cv2.imshow(\"image\", img)\n",
    "\n",
    "while(True):\n",
    "    try:\n",
    "        cv2.waitKey(100)\n",
    "    except Exception:\n",
    "        cv2.destroyWindow(\"image\")\n",
    "        break\n",
    "        \n",
    "cv2.waitKey(0)\n",
    "cv2.destroyAllWindow()"
   ]
  },
  {
   "cell_type": "markdown",
   "metadata": {},
   "source": [
    "## (Optional: merge two files of titles and vertices)"
   ]
  },
  {
   "cell_type": "code",
   "execution_count": 1,
   "metadata": {},
   "outputs": [],
   "source": [
    "import csv\n",
    "with open('/Users/RoyKudo/Desktop/EPM results/getvertices/title_of vertices.csv') as infile1, open('/Users/RoyKudo/Desktop/EPM results/getvertices/79.csv') as infile2, open('/Users/RoyKudo/Desktop/EPM results/getvertices/79_vertices.csv', 'w') as outfile:\n",
    "    writer = csv.writer(outfile, delimiter='\\t')\n",
    "    for row1,row2 in zip(csv.reader(infile1, delimiter='\\t'), csv.reader(infile2, delimiter='\\t')):\n",
    "        writer.writerow(row1+row2)"
   ]
  },
  {
   "cell_type": "markdown",
   "metadata": {},
   "source": [
    "# Create area of polygons by shapely & detect bodycenter"
   ]
  },
  {
   "cell_type": "code",
   "execution_count": 2,
   "metadata": {},
   "outputs": [],
   "source": [
    "from shapely.geometry import Point\n",
    "from shapely.geometry.polygon import Polygon"
   ]
  },
  {
   "cell_type": "markdown",
   "metadata": {},
   "source": [
    "## (Turn vertices in csv into list of tuple)"
   ]
  },
  {
   "cell_type": "code",
   "execution_count": 3,
   "metadata": {},
   "outputs": [],
   "source": [
    "import csv\n",
    "\n",
    "l1 = []\n",
    "l_yrows = []\n",
    "\n",
    "with open('/Users/RoyKudo/Desktop/EPM results/getvertices/79.csv', 'r') as f:\n",
    "    l = list(f)\n",
    "    for i in l:\n",
    "        l1.append(int(i.replace('\\n','')))\n",
    "        \n",
    "l_xrows = list(l1[::2])\n",
    "l2 = list(l1[1::2])\n",
    "\n",
    "for j in l2: # have to reverse the y axis since they're the opposites in cv2 & sharply\n",
    "     l_yrows.append(j)\n",
    "\n",
    "coor = list(zip(l_xrows, l_yrows))"
   ]
  },
  {
   "cell_type": "markdown",
   "metadata": {},
   "source": [
    "## (create area polygons)"
   ]
  },
  {
   "cell_type": "code",
   "execution_count": 4,
   "metadata": {},
   "outputs": [],
   "source": [
    "leftup_openarm = Polygon(coor[0:4])\n",
    "leftdown_closearm = Polygon(coor[4:8])\n",
    "center_square = Polygon(coor[8:12])\n",
    "rightup_closearm = Polygon(coor[12:16])\n",
    "rightdown_openarm = Polygon(coor[16:20])"
   ]
  },
  {
   "cell_type": "markdown",
   "metadata": {},
   "source": [
    "## (Get x, y coordinates of bodycenter from DLC result csv)"
   ]
  },
  {
   "cell_type": "code",
   "execution_count": 5,
   "metadata": {},
   "outputs": [],
   "source": [
    "import csv\n",
    "\n",
    "#for x axis:\n",
    "l = []\n",
    "with open('/Users/RoyKudo/Desktop/EPM results/coor csv/79_coor.csv', \"r\") as csv_file:\n",
    "    csv_reader = csv.reader(csv_file, delimiter=',')\n",
    "    for lines in csv_reader:\n",
    "        l.append(lines[1])\n",
    "l1 = l[3:]\n",
    "l_bodycenter_x = []\n",
    "for i in l1:\n",
    "    l_bodycenter_x.append(float(i))\n",
    "\n",
    "#for y axis:\n",
    "l2 = []\n",
    "with open('/Users/RoyKudo/Desktop/EPM results/coor csv/79_coor.csv', \"r\") as csv_file:\n",
    "    csv_reader = csv.reader(csv_file, delimiter=',')\n",
    "    for lines in csv_reader:\n",
    "        l2.append(lines[2])\n",
    "l3 = l2[3:]\n",
    "l_bodycenter_y = []\n",
    "for j in l3:\n",
    "    l_bodycenter_y.append(float(j))\n",
    "\n",
    "#make list containing x,y tuples\n",
    "coor_bodycenter = list(zip(l_bodycenter_x, l_bodycenter_y))"
   ]
  },
  {
   "cell_type": "markdown",
   "metadata": {},
   "source": [
    "## (Detect locations of bodycenter)"
   ]
  },
  {
   "cell_type": "code",
   "execution_count": 6,
   "metadata": {},
   "outputs": [],
   "source": [
    "l_location_bodycenter = []\n",
    "\n",
    "for i in coor_bodycenter:\n",
    "    if leftup_openarm.contains(Point(i)) or rightdown_openarm.contains(Point(i)):\n",
    "        l_location_bodycenter.append('Open')\n",
    "    \n",
    "    elif leftdown_closearm.contains(Point(i)) or rightup_closearm.contains(Point(i)):\n",
    "        l_location_bodycenter.append('Close')\n",
    "    \n",
    "    elif center_square.contains(Point(i)):\n",
    "        l_location_bodycenter.append('Center')\n",
    "    \n",
    "    else:\n",
    "        l_location_bodycenter.append('Outlier')\n",
    "\n",
    "with open('/Users/RoyKudo/Desktop/EPM results/area_detection_result/79_bodycenter_detection_result.csv', 'a') as t:\n",
    "    for j in l_location_bodycenter:\n",
    "        t.write(j)\n",
    "        t.write('\\n')"
   ]
  },
  {
   "cell_type": "markdown",
   "metadata": {},
   "source": [
    "# Calculate the time ratio in close arms"
   ]
  },
  {
   "cell_type": "code",
   "execution_count": 7,
   "metadata": {},
   "outputs": [],
   "source": [
    "def closearm_ratio():\n",
    "    with open('/Users/RoyKudo/Desktop/EPM results/area_detection_result/79_bodycenter_detection_result.csv', \"r\") as fh:\n",
    "        fhstr = fh.read()\n",
    "        close_count = fhstr.count('Close')\n",
    "        total_count = close_count + fhstr.count('Open') + fhstr.count('Center') + fhstr.count('Outlier')\n",
    "        close_time_ratio = close_count / total_count\n",
    "        return str(close_time_ratio)\n",
    "\n",
    "with open('/Users/RoyKudo/Desktop/EPM results/area_detection_result/closearm_ratio_result.csv', 'a') as t:\n",
    "    t.write('79_bodycenter_detection_result.csv')\n",
    "    t.write('\\t')\n",
    "    t.write(closearm_ratio())\n",
    "    t.write('\\n')"
   ]
  },
  {
   "cell_type": "code",
   "execution_count": null,
   "metadata": {},
   "outputs": [],
   "source": []
  }
 ],
 "metadata": {
  "kernelspec": {
   "display_name": "Python 3",
   "language": "python",
   "name": "python3"
  },
  "language_info": {
   "codemirror_mode": {
    "name": "ipython",
    "version": 3
   },
   "file_extension": ".py",
   "mimetype": "text/x-python",
   "name": "python",
   "nbconvert_exporter": "python",
   "pygments_lexer": "ipython3",
   "version": "3.7.9"
  }
 },
 "nbformat": 4,
 "nbformat_minor": 4
}
